{
 "cells": [
  {
   "cell_type": "markdown",
   "metadata": {},
   "source": [
    "# VacationPy\n",
    "----\n",
    "\n",
    "#### Note\n",
    "* Instructions have been included for each segment. You do not have to follow them exactly, but they are included to help you think through the steps."
   ]
  },
  {
   "cell_type": "code",
   "execution_count": 1,
   "metadata": {},
   "outputs": [],
   "source": [
    "# Dependencies and Setup\n",
    "import matplotlib.pyplot as plt\n",
    "import pandas as pd\n",
    "import numpy as np\n",
    "import requests\n",
    "import gmaps\n",
    "import os\n",
    "import json\n",
    "from pprint import pprint\n",
    "\n",
    "# Import API key\n",
    "from api_keys import g_key\n",
    "gmaps.configure(api_key = g_key)"
   ]
  },
  {
   "cell_type": "markdown",
   "metadata": {},
   "source": [
    "### Store Part I results into DataFrame\n",
    "* Load the csv exported in Part I to a DataFrame"
   ]
  },
  {
   "cell_type": "code",
   "execution_count": 2,
   "metadata": {},
   "outputs": [],
   "source": [
    "weather_data = \"../output_data/cities.csv\"\n",
    "\n",
    "weather_data = pd.read_csv(weather_data)"
   ]
  },
  {
   "cell_type": "code",
   "execution_count": 3,
   "metadata": {},
   "outputs": [
    {
     "data": {
      "text/html": [
       "<div>\n",
       "<style scoped>\n",
       "    .dataframe tbody tr th:only-of-type {\n",
       "        vertical-align: middle;\n",
       "    }\n",
       "\n",
       "    .dataframe tbody tr th {\n",
       "        vertical-align: top;\n",
       "    }\n",
       "\n",
       "    .dataframe thead th {\n",
       "        text-align: right;\n",
       "    }\n",
       "</style>\n",
       "<table border=\"1\" class=\"dataframe\">\n",
       "  <thead>\n",
       "    <tr style=\"text-align: right;\">\n",
       "      <th></th>\n",
       "      <th>Unnamed: 0</th>\n",
       "      <th>City</th>\n",
       "      <th>Country</th>\n",
       "      <th>Date</th>\n",
       "      <th>Lat</th>\n",
       "      <th>Lng</th>\n",
       "      <th>Temp</th>\n",
       "      <th>Humidity</th>\n",
       "      <th>Cloudiness</th>\n",
       "      <th>Wind Speed</th>\n",
       "    </tr>\n",
       "  </thead>\n",
       "  <tbody>\n",
       "    <tr>\n",
       "      <td>0</td>\n",
       "      <td>0</td>\n",
       "      <td>hobart</td>\n",
       "      <td>AU</td>\n",
       "      <td>1586774656</td>\n",
       "      <td>-42.88</td>\n",
       "      <td>147.33</td>\n",
       "      <td>55.40</td>\n",
       "      <td>76</td>\n",
       "      <td>75</td>\n",
       "      <td>5.82</td>\n",
       "    </tr>\n",
       "    <tr>\n",
       "      <td>1</td>\n",
       "      <td>1</td>\n",
       "      <td>faanui</td>\n",
       "      <td>PF</td>\n",
       "      <td>1586774935</td>\n",
       "      <td>-16.48</td>\n",
       "      <td>-151.75</td>\n",
       "      <td>82.69</td>\n",
       "      <td>72</td>\n",
       "      <td>71</td>\n",
       "      <td>10.51</td>\n",
       "    </tr>\n",
       "    <tr>\n",
       "      <td>2</td>\n",
       "      <td>2</td>\n",
       "      <td>eureka</td>\n",
       "      <td>US</td>\n",
       "      <td>1586774937</td>\n",
       "      <td>40.80</td>\n",
       "      <td>-124.16</td>\n",
       "      <td>45.00</td>\n",
       "      <td>81</td>\n",
       "      <td>1</td>\n",
       "      <td>3.36</td>\n",
       "    </tr>\n",
       "    <tr>\n",
       "      <td>3</td>\n",
       "      <td>3</td>\n",
       "      <td>cape town</td>\n",
       "      <td>ZA</td>\n",
       "      <td>1586774746</td>\n",
       "      <td>-33.93</td>\n",
       "      <td>18.42</td>\n",
       "      <td>68.00</td>\n",
       "      <td>52</td>\n",
       "      <td>40</td>\n",
       "      <td>6.93</td>\n",
       "    </tr>\n",
       "    <tr>\n",
       "      <td>4</td>\n",
       "      <td>4</td>\n",
       "      <td>kodiak</td>\n",
       "      <td>US</td>\n",
       "      <td>1586774908</td>\n",
       "      <td>57.79</td>\n",
       "      <td>-152.41</td>\n",
       "      <td>39.20</td>\n",
       "      <td>93</td>\n",
       "      <td>100</td>\n",
       "      <td>4.70</td>\n",
       "    </tr>\n",
       "  </tbody>\n",
       "</table>\n",
       "</div>"
      ],
      "text/plain": [
       "   Unnamed: 0       City Country        Date    Lat     Lng   Temp  Humidity  \\\n",
       "0           0     hobart      AU  1586774656 -42.88  147.33  55.40        76   \n",
       "1           1     faanui      PF  1586774935 -16.48 -151.75  82.69        72   \n",
       "2           2     eureka      US  1586774937  40.80 -124.16  45.00        81   \n",
       "3           3  cape town      ZA  1586774746 -33.93   18.42  68.00        52   \n",
       "4           4     kodiak      US  1586774908  57.79 -152.41  39.20        93   \n",
       "\n",
       "   Cloudiness  Wind Speed  \n",
       "0          75        5.82  \n",
       "1          71       10.51  \n",
       "2           1        3.36  \n",
       "3          40        6.93  \n",
       "4         100        4.70  "
      ]
     },
     "execution_count": 3,
     "metadata": {},
     "output_type": "execute_result"
    }
   ],
   "source": [
    "weather_data.head()"
   ]
  },
  {
   "cell_type": "markdown",
   "metadata": {},
   "source": [
    "### Humidity Heatmap\n",
    "* Configure gmaps.\n",
    "* Use the Lat and Lng as locations and Humidity as the weight.\n",
    "* Add Heatmap layer to map."
   ]
  },
  {
   "cell_type": "code",
   "execution_count": 4,
   "metadata": {},
   "outputs": [],
   "source": [
    "# Configure Gmaps via API key.\n",
    "gmaps.configure(api_key=g_key)\n",
    "\n",
    "locations = weather_data[[\"Lat\", \"Lng\"]]\n",
    "\n",
    "humidity = weather_data[\"Humidity\"].astype(float)\n",
    "\n",
    "# figure_layout = {\n",
    "#     'width' : '1000px',\n",
    "#     'height':'400px',\n",
    "#     'border':'1px solid black',\n",
    "#     'padding':'1px',\n",
    "#     'margin':'0 auto 0 auto'\n",
    "# }\n",
    "\n",
    "# fig = gmaps.figure(layout=figure_layout)\n",
    "\n",
    "fig = gmaps.figure()\n",
    "\n",
    "heatmap_layer = gmaps.heatmap_layer(locations, weights=humidity,\n",
    "                                   dissipating=False, max_intensity=5,\n",
    "                                   point_radius=1)\n",
    "\n",
    "fig.add_layer(heatmap_layer)"
   ]
  },
  {
   "cell_type": "code",
   "execution_count": 5,
   "metadata": {},
   "outputs": [
    {
     "data": {
      "application/vnd.jupyter.widget-view+json": {
       "model_id": "b2fa35141bfe4bdfad2d852550431cef",
       "version_major": 2,
       "version_minor": 0
      },
      "text/plain": [
       "Figure(layout=FigureLayout(height='420px'))"
      ]
     },
     "metadata": {},
     "output_type": "display_data"
    }
   ],
   "source": [
    "fig"
   ]
  },
  {
   "cell_type": "markdown",
   "metadata": {},
   "source": [
    "### Create new DataFrame fitting weather criteria\n",
    "* Narrow down the cities to fit weather conditions.\n",
    "* Drop any rows will null values."
   ]
  },
  {
   "cell_type": "code",
   "execution_count": 6,
   "metadata": {},
   "outputs": [
    {
     "data": {
      "text/html": [
       "<div>\n",
       "<style scoped>\n",
       "    .dataframe tbody tr th:only-of-type {\n",
       "        vertical-align: middle;\n",
       "    }\n",
       "\n",
       "    .dataframe tbody tr th {\n",
       "        vertical-align: top;\n",
       "    }\n",
       "\n",
       "    .dataframe thead th {\n",
       "        text-align: right;\n",
       "    }\n",
       "</style>\n",
       "<table border=\"1\" class=\"dataframe\">\n",
       "  <thead>\n",
       "    <tr style=\"text-align: right;\">\n",
       "      <th></th>\n",
       "      <th>City</th>\n",
       "      <th>Temp</th>\n",
       "      <th>Wind Speed</th>\n",
       "      <th>Cloudiness</th>\n",
       "    </tr>\n",
       "  </thead>\n",
       "  <tbody>\n",
       "    <tr>\n",
       "      <td>69</td>\n",
       "      <td>pontalina</td>\n",
       "      <td>73.56</td>\n",
       "      <td>5.46</td>\n",
       "      <td>0</td>\n",
       "    </tr>\n",
       "    <tr>\n",
       "      <td>248</td>\n",
       "      <td>turayf</td>\n",
       "      <td>71.60</td>\n",
       "      <td>4.70</td>\n",
       "      <td>0</td>\n",
       "    </tr>\n",
       "    <tr>\n",
       "      <td>295</td>\n",
       "      <td>villarrica</td>\n",
       "      <td>73.00</td>\n",
       "      <td>5.66</td>\n",
       "      <td>0</td>\n",
       "    </tr>\n",
       "    <tr>\n",
       "      <td>529</td>\n",
       "      <td>guiratinga</td>\n",
       "      <td>76.73</td>\n",
       "      <td>2.82</td>\n",
       "      <td>0</td>\n",
       "    </tr>\n",
       "  </tbody>\n",
       "</table>\n",
       "</div>"
      ],
      "text/plain": [
       "           City   Temp  Wind Speed  Cloudiness\n",
       "69    pontalina  73.56        5.46           0\n",
       "248      turayf  71.60        4.70           0\n",
       "295  villarrica  73.00        5.66           0\n",
       "529  guiratinga  76.73        2.82           0"
      ]
     },
     "execution_count": 6,
     "metadata": {},
     "output_type": "execute_result"
    }
   ],
   "source": [
    "# > Narrow down the DataFrame to find your ideal weather condition.\n",
    "# ~ Example as follows:\n",
    "#   ~ A max temperature lower than 80 degrees but higher than 70.\n",
    "#   ~ Wind speed less than 10 mph.\n",
    "#   ~ Zero cloudiness.\n",
    "#   ~ Drop any rows that don't contain all three conditions. \n",
    "#   ~ You want to be sure the weather is ideal?\n",
    "\n",
    "new_df = pd.DataFrame(weather_data, columns = [\"City\", \"Temp\", \"Wind Speed\", \"Cloudiness\"])\n",
    "\n",
    "temp = (new_df[\"Temp\"] <= 80) & (new_df[\"Temp\"] > 70)\n",
    "windspeed = new_df[\"Wind Speed\"] < 10\n",
    "cloudiness = new_df[\"Cloudiness\"] == 0\n",
    "\n",
    "new_df[temp & windspeed & cloudiness]"
   ]
  },
  {
   "cell_type": "markdown",
   "metadata": {},
   "source": [
    "### Hotel Map\n",
    "* Store into variable named `hotel_df`.\n",
    "* Add a \"Hotel Name\" column to the DataFrame.\n",
    "* Set parameters to search for hotels with 5000 meters.\n",
    "* Hit the Google Places API for each city's coordinates.\n",
    "* Store the first Hotel result into the DataFrame.\n",
    "* Plot markers on top of the heatmap."
   ]
  },
  {
   "cell_type": "code",
   "execution_count": 7,
   "metadata": {},
   "outputs": [],
   "source": [
    "hotel_df = pd.DataFrame(weather_data, columns=[\"City\", \"Country\", \"Lat\", \"Lng\"])\n",
    "\n",
    "hotel_df[\"Hotel Name\"] = \"\""
   ]
  },
  {
   "cell_type": "code",
   "execution_count": 8,
   "metadata": {},
   "outputs": [
    {
     "data": {
      "text/html": [
       "<div>\n",
       "<style scoped>\n",
       "    .dataframe tbody tr th:only-of-type {\n",
       "        vertical-align: middle;\n",
       "    }\n",
       "\n",
       "    .dataframe tbody tr th {\n",
       "        vertical-align: top;\n",
       "    }\n",
       "\n",
       "    .dataframe thead th {\n",
       "        text-align: right;\n",
       "    }\n",
       "</style>\n",
       "<table border=\"1\" class=\"dataframe\">\n",
       "  <thead>\n",
       "    <tr style=\"text-align: right;\">\n",
       "      <th></th>\n",
       "      <th>City</th>\n",
       "      <th>Country</th>\n",
       "      <th>Lat</th>\n",
       "      <th>Lng</th>\n",
       "      <th>Hotel Name</th>\n",
       "    </tr>\n",
       "  </thead>\n",
       "  <tbody>\n",
       "    <tr>\n",
       "      <td>0</td>\n",
       "      <td>hobart</td>\n",
       "      <td>AU</td>\n",
       "      <td>-42.88</td>\n",
       "      <td>147.33</td>\n",
       "      <td></td>\n",
       "    </tr>\n",
       "    <tr>\n",
       "      <td>1</td>\n",
       "      <td>faanui</td>\n",
       "      <td>PF</td>\n",
       "      <td>-16.48</td>\n",
       "      <td>-151.75</td>\n",
       "      <td></td>\n",
       "    </tr>\n",
       "    <tr>\n",
       "      <td>2</td>\n",
       "      <td>eureka</td>\n",
       "      <td>US</td>\n",
       "      <td>40.80</td>\n",
       "      <td>-124.16</td>\n",
       "      <td></td>\n",
       "    </tr>\n",
       "    <tr>\n",
       "      <td>3</td>\n",
       "      <td>cape town</td>\n",
       "      <td>ZA</td>\n",
       "      <td>-33.93</td>\n",
       "      <td>18.42</td>\n",
       "      <td></td>\n",
       "    </tr>\n",
       "    <tr>\n",
       "      <td>4</td>\n",
       "      <td>kodiak</td>\n",
       "      <td>US</td>\n",
       "      <td>57.79</td>\n",
       "      <td>-152.41</td>\n",
       "      <td></td>\n",
       "    </tr>\n",
       "    <tr>\n",
       "      <td>...</td>\n",
       "      <td>...</td>\n",
       "      <td>...</td>\n",
       "      <td>...</td>\n",
       "      <td>...</td>\n",
       "      <td>...</td>\n",
       "    </tr>\n",
       "    <tr>\n",
       "      <td>581</td>\n",
       "      <td>lasa</td>\n",
       "      <td>IT</td>\n",
       "      <td>46.62</td>\n",
       "      <td>10.70</td>\n",
       "      <td></td>\n",
       "    </tr>\n",
       "    <tr>\n",
       "      <td>582</td>\n",
       "      <td>bayir</td>\n",
       "      <td>TR</td>\n",
       "      <td>37.27</td>\n",
       "      <td>28.22</td>\n",
       "      <td></td>\n",
       "    </tr>\n",
       "    <tr>\n",
       "      <td>583</td>\n",
       "      <td>embonas</td>\n",
       "      <td>GR</td>\n",
       "      <td>36.23</td>\n",
       "      <td>27.86</td>\n",
       "      <td></td>\n",
       "    </tr>\n",
       "    <tr>\n",
       "      <td>584</td>\n",
       "      <td>vicuna</td>\n",
       "      <td>CL</td>\n",
       "      <td>-30.03</td>\n",
       "      <td>-70.71</td>\n",
       "      <td></td>\n",
       "    </tr>\n",
       "    <tr>\n",
       "      <td>585</td>\n",
       "      <td>dong hoi</td>\n",
       "      <td>VN</td>\n",
       "      <td>17.48</td>\n",
       "      <td>106.60</td>\n",
       "      <td></td>\n",
       "    </tr>\n",
       "  </tbody>\n",
       "</table>\n",
       "<p>586 rows × 5 columns</p>\n",
       "</div>"
      ],
      "text/plain": [
       "          City Country    Lat     Lng Hotel Name\n",
       "0       hobart      AU -42.88  147.33           \n",
       "1       faanui      PF -16.48 -151.75           \n",
       "2       eureka      US  40.80 -124.16           \n",
       "3    cape town      ZA -33.93   18.42           \n",
       "4       kodiak      US  57.79 -152.41           \n",
       "..         ...     ...    ...     ...        ...\n",
       "581       lasa      IT  46.62   10.70           \n",
       "582      bayir      TR  37.27   28.22           \n",
       "583    embonas      GR  36.23   27.86           \n",
       "584     vicuna      CL -30.03  -70.71           \n",
       "585   dong hoi      VN  17.48  106.60           \n",
       "\n",
       "[586 rows x 5 columns]"
      ]
     },
     "execution_count": 8,
     "metadata": {},
     "output_type": "execute_result"
    }
   ],
   "source": [
    "hotel_df"
   ]
  },
  {
   "cell_type": "code",
   "execution_count": 9,
   "metadata": {},
   "outputs": [],
   "source": [
    "target_coordinates = f\"{hotel_df['Lat'][0]},{hotel_df['Lng'][0]}\"\n",
    "target_search = \"hotel\"\n",
    "target_radius = 5000\n",
    "target_type = \"hotel\"\n",
    "\n",
    "# Parameters Dictionary\n",
    "params = {\n",
    "    \"location\": target_coordinates,\n",
    "    \"keyword\": target_search,\n",
    "    \"radius\": target_radius,\n",
    "    \"type\": target_type,\n",
    "    \"key\": g_key\n",
    "}\n",
    "\n",
    "# Base URL\n",
    "base_url = \"https://maps.googleapis.com/maps/api/place/nearbysearch/json\"\n",
    "\n",
    "# Request via PD\n",
    "response = requests.get(base_url, params=params)"
   ]
  },
  {
   "cell_type": "code",
   "execution_count": 10,
   "metadata": {},
   "outputs": [
    {
     "name": "stdout",
     "output_type": "stream",
     "text": [
      "{'html_attributions': [],\n",
      " 'next_page_token': 'CrQCIQEAANpBD86tBj-k44zsWUyVKGwHXPyngfU5GOUnnfqBySaD1YXVNNPVgB5nadqrCOQYW7eMY0VaopQsVYg0DTuFwmR9Vl5rnPNdkGfjqS0iVrhIV-ZRvEH-Z3W1donPpQbVgRobtMbVoMuIGCEPGcfmdh2B5cQF_RHiXndHGKBQ8sAkuWrbh6PU0JDMbN-2U-6QUXdYPaJYYpzp6-v3QgUmGg2Kjlb7iLCzZnlUcZ3o7dN_zfJDVtQks8fjpSFfR5dH5u3G2M0Ro2NmCtUFAvHqs_LQ5aGUKSU5JIBUCPpmrO2cL8Bl9GlsFZPxJtgLGXl3CPojwADnW90DrftskE0yQaO63BEdc9CQ-PS4mzfhxs1ougcDUM6epb_oo5algmCxGvp54IjJIoUhBRjp_ZY7LsASECRkdepQJjXtvWhpAJSERK8aFIElXM3YKagW1gglRJIi5xzFW7vy',\n",
      " 'results': [...],\n",
      " 'status': 'OK'}\n"
     ]
    }
   ],
   "source": [
    "pprint(response.json(), depth=1)"
   ]
  },
  {
   "cell_type": "code",
   "execution_count": 11,
   "metadata": {},
   "outputs": [
    {
     "data": {
      "text/plain": [
       "'hobart'"
      ]
     },
     "execution_count": 11,
     "metadata": {},
     "output_type": "execute_result"
    }
   ],
   "source": [
    "hotel_df.iloc[0][0]"
   ]
  },
  {
   "cell_type": "code",
   "execution_count": null,
   "metadata": {},
   "outputs": [],
   "source": [
    "hotel_name = []\n",
    "\n",
    "params = {\n",
    "    \"radius\": 5000,\n",
    "    \"types\": \"hotel\",\n",
    "    \"keyword\": \"hotel\",\n",
    "    \"key\": g_key\n",
    "}\n",
    "\n",
    "for index, row in hotel_df.iterrows():\n",
    "\n",
    "    lat = row[\"Lat\"]\n",
    "    lng = row[\"Lng\"]\n",
    "\n",
    "    params[\"location\"] = f\"{lat},{lng}\"\n",
    "\n",
    "    base_url = \"https://maps.googleapis.com/maps/api/place/nearbysearch/json\"\n",
    "\n",
    "    # Request & print URL\n",
    "    name_address = requests.get(base_url, params=params)\n",
    "    \n",
    "    # Convert to JSON\n",
    "    name_address = name_address.json()\n",
    "    try:\n",
    "        hotel_name.append(name_address['results'][0]['name'])\n",
    "    except IndexError:\n",
    "        hotel_name.append(np.nan)"
   ]
  },
  {
   "cell_type": "code",
   "execution_count": null,
   "metadata": {},
   "outputs": [],
   "source": [
    "hotel_name"
   ]
  },
  {
   "cell_type": "code",
   "execution_count": null,
   "metadata": {},
   "outputs": [],
   "source": [
    "hotel_df['Hotel Name']= hotel_name\n",
    "hotel_df.dropna()\n",
    "hotel_df.to_csv('hotel_data.csv')"
   ]
  },
  {
   "cell_type": "code",
   "execution_count": null,
   "metadata": {},
   "outputs": [],
   "source": [
    "figure_layout = {\n",
    "    'width': '900px',\n",
    "    'height': '600px',\n",
    "    'border': '1px solid black',\n",
    "    'padding': '1px',\n",
    "    'margin': '0 auto 0 auto'\n",
    "}\n",
    "fig = gmaps.figure(layout=figure_layout,zoom_level=2,center=(15,25))\n",
    "\n",
    "# Hotel layer\n",
    "hotel_layer = gmaps.marker_layer(\n",
    "    locations,info_box_content=[info_box_template.format(**row) for index, row in hotel_df.iterrows()]\n",
    ")\n",
    "\n",
    "# Add layer\n",
    "fig.add_layer(heat_layer)\n",
    "fig.add_layer(hotel_layer)\n",
    "\n",
    "fig"
   ]
  },
  {
   "cell_type": "code",
   "execution_count": null,
   "metadata": {},
   "outputs": [],
   "source": [
    "# NOTE: Do not change any of the code in this cell\n",
    "\n",
    "# Using the template add the hotel marks to the heatmap\n",
    "info_box_template = \"\"\"\n",
    "<dl>\n",
    "<dt>Name</dt><dd>{Hotel Name}</dd>\n",
    "<dt>City</dt><dd>{City}</dd>\n",
    "<dt>Country</dt><dd>{Country}</dd>\n",
    "</dl>\n",
    "\"\"\"\n",
    "# Store the DataFrame Row\n",
    "# NOTE: be sure to update with your DataFrame name\n",
    "hotel_info = [info_box_template.format(**row) for index, row in hotel_df.iterrows()]\n",
    "locations = hotel_df[[\"Lat\", \"Lng\"]]"
   ]
  },
  {
   "cell_type": "code",
   "execution_count": null,
   "metadata": {},
   "outputs": [],
   "source": []
  }
 ],
 "metadata": {
  "kernelspec": {
   "display_name": "Python 3",
   "language": "python",
   "name": "python3"
  },
  "language_info": {
   "codemirror_mode": {
    "name": "ipython",
    "version": 3
   },
   "file_extension": ".py",
   "mimetype": "text/x-python",
   "name": "python",
   "nbconvert_exporter": "python",
   "pygments_lexer": "ipython3",
   "version": "3.7.4"
  },
  "latex_envs": {
   "LaTeX_envs_menu_present": true,
   "autoclose": false,
   "autocomplete": true,
   "bibliofile": "biblio.bib",
   "cite_by": "apalike",
   "current_citInitial": 1,
   "eqLabelWithNumbers": true,
   "eqNumInitial": 1,
   "hotkeys": {
    "equation": "Ctrl-E",
    "itemize": "Ctrl-I"
   },
   "labels_anchors": false,
   "latex_user_defs": false,
   "report_style_numbering": false,
   "user_envs_cfg": false
  }
 },
 "nbformat": 4,
 "nbformat_minor": 2
}
